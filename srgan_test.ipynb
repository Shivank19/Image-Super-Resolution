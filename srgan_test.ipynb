{
 "cells": [
  {
   "cell_type": "code",
   "execution_count": null,
   "metadata": {},
   "outputs": [],
   "source": [
    "import os\n",
    "import cv2\n",
    "import numpy as np\n",
    "import random\n",
    "import matplotlib.pyplot as plt\n",
    "import tensorflow as tf\n",
    "from keras import layers, Model\n",
    "from keras.models import load_model\n",
    "from numpy.random import randint\n",
    "from skimage.metrics import peak_signal_noise_ratio, structural_similarity"
   ]
  },
  {
   "cell_type": "markdown",
   "metadata": {},
   "source": [
    "### Load Model"
   ]
  },
  {
   "cell_type": "code",
   "execution_count": null,
   "metadata": {},
   "outputs": [],
   "source": [
    "gen_model = tf.keras.models.load_model('Trained_Models/gen_e_5.h5', compile=False)"
   ]
  },
  {
   "cell_type": "code",
   "execution_count": null,
   "metadata": {},
   "outputs": [],
   "source": [
    "from IPython.display import display, Image"
   ]
  },
  {
   "cell_type": "code",
   "execution_count": null,
   "metadata": {},
   "outputs": [],
   "source": [
    "src_img = Image(\"data/lr_images/im1500.jpg\")\n",
    "tgt_img = Image(\"data/hr_images/im1500.jpg\")\n",
    "display(src_img)\n",
    "display(tgt_img)"
   ]
  },
  {
   "cell_type": "code",
   "execution_count": null,
   "metadata": {},
   "outputs": [],
   "source": [
    "# [X1, X2] = [lr_test, hr_test]\n",
    "# ix = randint(0, len(X1), 1)\n",
    "# src_img, tgt_img = X1[ix], X2[ix]\n",
    "\n",
    "source = cv2.imread(\"data/lr_images/im1500.jpg\")\n",
    "target = cv2.imread(\"data/hr_images/im1500.jpg\")\n",
    "\n",
    "source = cv2.cvtColor(source, cv2.COLOR_BGR2RGB)\n",
    "target = cv2.cvtColor(target, cv2.COLOR_BGR2RGB)\n",
    "\n",
    "source = source / 255\n",
    "target = target / 255\n",
    "\n",
    "source = np.expand_dims(source, axis = 0)\n",
    "target = np.expand_dims(source, axis = 0)\n",
    "\n",
    "gen_img = gen_model.predict(source)\n",
    "\n",
    "\n",
    "\n",
    "# Plot all three images\n",
    "plt.figure(figsize=(16, 8))\n",
    "plt.subplot(231)\n",
    "plt.title('LR Image')\n",
    "plt.imshow(source[0,:,:,:])\n",
    "plt.subplot(232)\n",
    "plt.title(\"Super Resolution\")\n",
    "plt.imshow(gen_img[0,:,:,:])\n",
    "# plt.subplot(233)\n",
    "# plt.title('Orig. HR image')\n",
    "# plt.imshow(target[0,:,:,:])\n",
    "\n",
    "plt.show()\n",
    "\n",
    "\n",
    "\n",
    "\n"
   ]
  },
  {
   "cell_type": "code",
   "execution_count": null,
   "metadata": {},
   "outputs": [],
   "source": []
  }
 ],
 "metadata": {
  "kernelspec": {
   "display_name": "isr",
   "language": "python",
   "name": "isr"
  },
  "language_info": {
   "codemirror_mode": {
    "name": "ipython",
    "version": 3
   },
   "file_extension": ".py",
   "mimetype": "text/x-python",
   "name": "python",
   "nbconvert_exporter": "python",
   "pygments_lexer": "ipython3",
   "version": "3.9.13"
  },
  "vscode": {
   "interpreter": {
    "hash": "bc3f5e30da040d65511822191e49a07fc516e5fea13bc89cd3f674d171a509d6"
   }
  }
 },
 "nbformat": 4,
 "nbformat_minor": 4
}
